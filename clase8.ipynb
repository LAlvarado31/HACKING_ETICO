{
 "cells": [
  {
   "cell_type": "code",
   "execution_count": null,
   "metadata": {},
   "outputs": [],
   "source": [
    "class Pokemon:\n",
    "    name = \"\"\n",
    "    level = 0\n",
    "    hp = 0\n",
    "    attack = 0\n",
    "    defense = 0\n",
    "\n",
    "    def describir (self):\n",
    "        print(\"Nombre: \", self,name)        \n",
    "        print(\"Nivel: \", self, level)\n",
    "        print(\"HP: \", self, hp)\n",
    "        print(\"Ataque: \", self, attack)\n",
    "        print(\"Defensa: \", self, defense)\n",
    "\n",
    "    def ataque_fuego(self):\n",
    "        print(\"Ahhhhh tira fuego\")\n"
   ]
  },
  {
   "cell_type": "code",
   "execution_count": null,
   "metadata": {},
   "outputs": [],
   "source": [
    "pokemon1 = Pokemon()\n",
    "pokemon1.name = \"Charmander\"\n",
    "pokemon1.level = 5\n",
    "pokemon1.hp = 39 \n",
    "pokemon1.attack = 52\n",
    "pokemon1.defense = 43\n",
    "pokemon1.describir()\n",
    "pokemon1.ataque_fuego  "
   ]
  },
  {
   "cell_type": "code",
   "execution_count": null,
   "metadata": {},
   "outputs": [],
   "source": [
    "pokemon2 = Pokemon\n",
    "Bulbasaur\""
   ]
  },
  {
   "cell_type": "code",
   "execution_count": null,
   "metadata": {},
   "outputs": [],
   "source": []
  }
 ],
 "metadata": {
  "kernelspec": {
   "display_name": "Python 3",
   "language": "python",
   "name": "python3"
  },
  "language_info": {
   "codemirror_mode": {
    "name": "ipython",
    "version": 3
   },
   "file_extension": ".py",
   "mimetype": "text/x-python",
   "name": "python",
   "nbconvert_exporter": "python",
   "pygments_lexer": "ipython3",
   "version": "3.13.0"
  }
 },
 "nbformat": 4,
 "nbformat_minor": 2
}
