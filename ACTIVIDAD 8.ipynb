{
 "cells": [
  {
   "cell_type": "markdown",
   "metadata": {},
   "source": [
    "Actividad 8. Crear un sistema N cantidad de tareas y se cierre si detecta un número, al final debe mostrar todo lo que se añadió."
   ]
  },
  {
   "cell_type": "code",
   "execution_count": 2,
   "metadata": {},
   "outputs": [
    {
     "name": "stdout",
     "output_type": "stream",
     "text": [
      "Se detectó un número.\n",
      "\n",
      "Tareas añadidas:\n",
      "1. barrer\n"
     ]
    }
   ],
   "source": [
    "with open(\"tareas.txt\", \"w\") as archivo:\n",
    "    while True:\n",
    "        tareas = input(\"Ingresa una tarea: \")\n",
    "\n",
    "        if tareas.isdigit():\n",
    "            print(\"Se detectó un número.\")\n",
    "            break\n",
    "        \n",
    "        archivo.write(tareas + \"\\n\")\n",
    "        tareas = True\n",
    "\n",
    "if tareas:\n",
    "    print(\"\\nTareas añadidas:\")\n",
    "    with open(\"tareas.txt\", \"r\") as archivo:\n",
    "        tareas = archivo.readlines()\n",
    "        for i, tareas in enumerate(tareas, 1):\n",
    "            print(f\"{i}. {tareas.strip()}\")"
   ]
  }
 ],
 "metadata": {
  "kernelspec": {
   "display_name": "Python 3",
   "language": "python",
   "name": "python3"
  },
  "language_info": {
   "codemirror_mode": {
    "name": "ipython",
    "version": 3
   },
   "file_extension": ".py",
   "mimetype": "text/x-python",
   "name": "python",
   "nbconvert_exporter": "python",
   "pygments_lexer": "ipython3",
   "version": "3.13.0"
  }
 },
 "nbformat": 4,
 "nbformat_minor": 2
}
