{
 "cells": [
  {
   "cell_type": "markdown",
   "metadata": {},
   "source": [
    "TEMA 8"
   ]
  },
  {
   "cell_type": "code",
   "execution_count": null,
   "metadata": {},
   "outputs": [],
   "source": [
    "nueva_tarea = input (\"Introduce una nueva tarea\");\n",
    "\n",
    "with open(\"tareas.txt\" ,  \"a\") as archivo;\n",
    "    archivo.write(nueva_tarea + \"\\n\")\n",
    "    "
   ]
  }
 ],
 "metadata": {
  "language_info": {
   "name": "python"
  }
 },
 "nbformat": 4,
 "nbformat_minor": 2
}
