{
 "cells": [
  {
   "cell_type": "code",
   "execution_count": 36,
   "metadata": {},
   "outputs": [],
   "source": [
    "class Spotify:\n",
    "    def __init__(self, nombre, artista, album, genero, colaboracion, Duracion, Año, Conciertos):\n",
    "        self.nombre = nombre\n",
    "        self.artista = artista\n",
    "        self.album = album\n",
    "        self.genero = genero \n",
    "        self.colaboracion = colaboracion\n",
    "        self.Duracion = Duracion\n",
    "        self.Año = Año\n",
    "        self.Conciertos = Conciertos\n",
    "\n",
    "    def describir(self):\n",
    "        print (\"nombre: \", self.nombre)\n",
    "        print (\"artista: \", self.artista)\n",
    "        print (\"album: \", self.album)\n",
    "        print (\"genero: \", self.genero)\n",
    "        print (\"colaboracion: \", self.colaboracion)\n",
    "        print (\"Duracion: \" , self.Duracion)\n",
    "        print (\"Año: \", self.Año)\n",
    "        print (\"Conciertos: \", self.Conciertos)"
   ]
  },
  {
   "cell_type": "code",
   "execution_count": 37,
   "metadata": {},
   "outputs": [
    {
     "name": "stdout",
     "output_type": "stream",
     "text": [
      "nombre:  Tienes el don\n",
      "artista:  Rels B\n",
      "album:  INEDITO\n",
      "genero:  Rap\n",
      "colaboracion:  Dellafuente\n",
      "Duracion:  3:45\n",
      "Año:  2010\n",
      "Conciertos:  Merida, FORO GNP\n"
     ]
    }
   ],
   "source": [
    "cancion1 = Spotify(\"Tienes el don\" , \"Rels B\" , \"INEDITO\" , \"Rap\", \"Dellafuente\" , \"3:45\", \"2010\", \"Merida, FORO GNP\")\n",
    "cancion1.describir()"
   ]
  }
 ],
 "metadata": {
  "kernelspec": {
   "display_name": "Python 3",
   "language": "python",
   "name": "python3"
  },
  "language_info": {
   "codemirror_mode": {
    "name": "ipython",
    "version": 3
   },
   "file_extension": ".py",
   "mimetype": "text/x-python",
   "name": "python",
   "nbconvert_exporter": "python",
   "pygments_lexer": "ipython3",
   "version": "3.13.0"
  }
 },
 "nbformat": 4,
 "nbformat_minor": 2
}
